{
  "nbformat": 4,
  "nbformat_minor": 0,
  "metadata": {
    "colab": {
      "provenance": []
    },
    "kernelspec": {
      "name": "python3",
      "display_name": "Python 3"
    },
    "language_info": {
      "name": "python"
    }
  },
  "cells": [
    {
      "cell_type": "markdown",
      "source": [
        "## **Introdução a Algoritmos - Regressão Linear**\n",
        "\n"
      ],
      "metadata": {
        "id": "vhk1VgCeLzvf"
      }
    },
    {
      "cell_type": "code",
      "execution_count": 1,
      "metadata": {
        "id": "JB5ARIOsKNm0",
        "colab": {
          "base_uri": "https://localhost:8080/",
          "height": 265
        },
        "outputId": "418582d2-433d-40b2-a3dd-44088f6a4f3d"
      },
      "outputs": [
        {
          "output_type": "display_data",
          "data": {
            "text/plain": [
              "<Figure size 432x288 with 1 Axes>"
            ],
            "image/png": "[encoded data removed]"
          },
          "metadata": {
            "needs_background": "light"
          }
        }
      ],
      "source": [
        "import pandas as pd\n",
        "from sklearn import linear_model\n",
        "import matplotlib.pyplot as plt\n",
        "\n",
        "#read data\n",
        "dataframe = pd.read_fwf('brain_body.txt')\n",
        "x_values = dataframe[['Brain']]\n",
        "y_values = dataframe[['Body']]\n",
        "\n",
        "#train model on data\n",
        "body_reg = linear_model.LinearRegression()\n",
        "body_reg.fit(x_values, y_values)\n",
        "\n",
        "#visualize results\n",
        "plt.scatter(x_values, y_values)\n",
        "plt.plot(x_values, body_reg.predict(x_values))\n",
        "plt.show()"
      ]
    },
    {
      "cell_type": "markdown",
      "source": [
        "##FIM"
      ],
      "metadata": {
        "id": "p2QSp6X0MUhv"
      }
    },
    {
      "cell_type": "markdown",
      "source": [
        "##### **Fonte**:\n",
        "https://www.statisticssolutions.com/free-resources/directory-of-statistical-analyses/what-is-linear-regression/"
      ],
      "metadata": {
        "id": "fAhJeL8ALNXN"
      }
    }
  ]
}